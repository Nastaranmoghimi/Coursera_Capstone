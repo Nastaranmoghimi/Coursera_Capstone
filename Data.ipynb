{
 "cells": [
  {
   "cell_type": "markdown",
   "metadata": {},
   "source": [
    "# Data\n",
    "For this project we will use the following data :  \n",
    "Data about Gurgaon restaurants which contains their locality, restaurant name, rating, latitude and longitude.  \n",
    "The source for this data will be the Zomato Kaggle Dataset: \"https://www.kaggle.com/shrutimehta/zomato-restaurants-data\"  \n",
    "Description : This data set contains the required information. Zomato API Analysis is one of the most useful analysis for foodies who want to taste the best cuisines of every part of the world.  \n",
    "\n",
    "We also need to know the nearby places (restaurants) in each neighborhood of Gurgaon.  \n",
    "Our data source for this is the Fousquare API : \"https://developer.foursquare.com/\"  \n",
    "We will use this API to get all the venues in each neighborhood."
   ]
  },
  {
   "cell_type": "code",
   "execution_count": null,
   "metadata": {},
   "outputs": [],
   "source": []
  }
 ],
 "metadata": {
  "kernelspec": {
   "display_name": "Python 3",
   "language": "python",
   "name": "python3"
  },
  "language_info": {
   "codemirror_mode": {
    "name": "ipython",
    "version": 3
   },
   "file_extension": ".py",
   "mimetype": "text/x-python",
   "name": "python",
   "nbconvert_exporter": "python",
   "pygments_lexer": "ipython3",
   "version": "3.7.6"
  }
 },
 "nbformat": 4,
 "nbformat_minor": 4
}
