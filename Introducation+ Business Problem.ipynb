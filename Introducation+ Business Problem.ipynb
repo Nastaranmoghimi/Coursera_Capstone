{
 "cells": [
  {
   "cell_type": "markdown",
   "metadata": {},
   "source": [
    "# Introduction"
   ]
  },
  {
   "cell_type": "markdown",
   "metadata": {},
   "source": [
    "Gurgaon is a city just southwest of New Delhi in northern India. Gurgaon has become a leading financial and banking center in India after Mumbai and Chennai. The city's economic growth story started when the leading Indian automobile manufacturer Maruti Suzuki India Limited established a manufacturing plant in Gurgaon in the 1970s. Today, Gurgaon has local offices for more than 250 Fortune 500 companies. Gurgaon is categorized as very high on the Human Development Index, with an HDI of 0.889 (2017), which is also the highest in India. "
   ]
  },
  {
   "cell_type": "markdown",
   "metadata": {},
   "source": [
    "Also known as the ‘Millenium City of India’, Gurgaon is abundant with shopping malls, tech companies, and hotels, but the city’s street food scene is also impeccable. Given that Gurgaon is a city filled with tech companies and businessmen who are extremely busy throughout the day, we will be investigating the best neighborhoods for fast food restaurants in Gurgaon where businessmen can get their food on the go."
   ]
  },
  {
   "cell_type": "markdown",
   "metadata": {},
   "source": [
    "#### Questions that will be answered in this report:  \n",
    "\n",
    "What is best location in Gurgaon for Fast Food ?  \n",
    "Which areas have large number of Fast Food restaurants ?  \n",
    "Which all areas have less number of resturant ?  \n",
    "Which is the best place to stay one prefers Fast Food ?  \n",
    "What places are have best restaurant in Gurgaon?  "
   ]
  },
  {
   "cell_type": "code",
   "execution_count": null,
   "metadata": {},
   "outputs": [],
   "source": []
  }
 ],
 "metadata": {
  "kernelspec": {
   "display_name": "Python 3",
   "language": "python",
   "name": "python3"
  },
  "language_info": {
   "codemirror_mode": {
    "name": "ipython",
    "version": 3
   },
   "file_extension": ".py",
   "mimetype": "text/x-python",
   "name": "python",
   "nbconvert_exporter": "python",
   "pygments_lexer": "ipython3",
   "version": "3.7.6"
  }
 },
 "nbformat": 4,
 "nbformat_minor": 4
}
